{
 "cells": [
  {
   "cell_type": "code",
   "execution_count": 1,
   "metadata": {},
   "outputs": [],
   "source": [
    "# Submitted By : Md Arif Hossen\n",
    "# Email: earihos@mail.uni-paderborn.de\n",
    "# Matriculation ID: 6853869\n",
    "# IDV Assignment4\n",
    "# Date of Sub: 4 June 2019"
   ]
  },
  {
   "cell_type": "code",
   "execution_count": 1,
   "metadata": {},
   "outputs": [],
   "source": [
    "#Progrma library dependency\n",
    "import numpy as np\n",
    "import pandas as pd\n",
    "import seaborn as sns\n",
    "import matplotlib.pyplot as plt\n",
    "%matplotlib inline\n",
    "\n",
    "import plotly.graph_objs as go\n",
    "from plotly.offline import download_plotlyjs, init_notebook_mode, plot, iplot\n",
    "import plotly.tools as tls\n",
    "import plotly.figure_factory as ff\n",
    "import copy\n"
   ]
  },
  {
   "cell_type": "code",
   "execution_count": 2,
   "metadata": {},
   "outputs": [],
   "source": [
    "#Read Input file \n",
    "filename=\"DataWeierstrass.csv\"\n",
    "df1=pd.read_csv(filename,sep=';')\n"
   ]
  },
  {
   "cell_type": "code",
   "execution_count": 3,
   "metadata": {},
   "outputs": [],
   "source": [
    "#data frame modificate to plot 7x7 scatter matrix and parallel coordinate\n",
    "u, df1['professor1'] = np.unique(df1['professor'], return_inverse=True)\n",
    "v, df1['lecture1'] = np.unique(df1['lecture'], return_inverse=True)\n",
    "#plt.scatter(pdata['professor1'],pdata['lecture1'])\n",
    "#plt.show()\n",
    "#df1.head()"
   ]
  },
  {
   "cell_type": "markdown",
   "metadata": {},
   "source": [
    "<b>show values base on the both professor & lecture"
   ]
  },
  {
   "cell_type": "code",
   "execution_count": 4,
   "metadata": {},
   "outputs": [],
   "source": [
    "#base in both professor & lecture\n",
    "list1=df1[\"professor\"].values+\" \"+df1[\"lecture\"].values\n",
    "pro_lecture=np.unique(df1[\"professor\"].values+\" \"+df1[\"lecture\"].values).tolist()\n",
    "pro_lecture_code={pro_lecture[k]: k for k in range(0,len(pro_lecture))}\n",
    "#lecture_code\n",
    "color_vals=[pro_lecture_code[cl] for cl in list1]"
   ]
  },
  {
   "cell_type": "code",
   "execution_count": 5,
   "metadata": {},
   "outputs": [],
   "source": [
    "#need to prepare color for each element\n",
    "pl_colorscale=[[0.0, '#19d3f3'],\n",
    "               [0.333, '#19d3f3'],\n",
    "               [0.333, '#e763fa'],\n",
    "               [0.666, '#e763fa'],\n",
    "               [0.666, '#636efa'],\n",
    "               [1, '#636efa']]"
   ]
  },
  {
   "cell_type": "code",
   "execution_count": 6,
   "metadata": {},
   "outputs": [
    {
     "data": {
      "text/plain": [
       "splom.Diagonal({\n",
       "    'visible': False\n",
       "})"
      ]
     },
     "execution_count": 6,
     "metadata": {},
     "output_type": "execute_result"
    }
   ],
   "source": [
    "#text=[df1.loc[ k, 'lecture'] for k in range(len(df1))]\n",
    "text=[df1.loc[ k, 'professor']+\" - \"+df1.loc[ k, 'lecture'] for k in range(len(df1))]\n",
    "trace1 = go.Splom(dimensions=[dict(label='professor',\n",
    "                                 values=df1['professor1']),\n",
    "                            dict(label='lecture',\n",
    "                                 values=df1['lecture1']),\n",
    "                            dict(label='participants',\n",
    "                                 values=df1['participants']),                              \n",
    "                            dict(label='professional expertise',\n",
    "                                 values=df1['professional expertise']),\n",
    "                            dict(label='motivation',\n",
    "                                 values=df1['motivation']),\n",
    "                            dict(label='clear presentation',\n",
    "                                 values=df1['clear presentation']),\n",
    "                            dict(label='overall impression',\n",
    "                                 values=df1['overall impression'])],\n",
    "                text=text,\n",
    "                marker=dict(color=color_vals,\n",
    "                            size=7,\n",
    "                            #colorscale=pl_colorscale, #required to put proper color\n",
    "                            showscale=False,\n",
    "                            line=dict(width=0.5,\n",
    "                                      color='rgb(230,230,230)'))\n",
    "                )\n",
    "trace1['diagonal'].update(visible=False)"
   ]
  },
  {
   "cell_type": "code",
   "execution_count": 9,
   "metadata": {},
   "outputs": [
    {
     "data": {
      "text/plain": [
       "'scatter-matrix-class-evaluation.html'"
      ]
     },
     "execution_count": 9,
     "metadata": {},
     "output_type": "execute_result"
    }
   ],
   "source": [
    "axis = dict(showline=True,\n",
    "          zeroline=False,\n",
    "          gridcolor='#fff',\n",
    "          ticklen=4)\n",
    "\n",
    "layout = go.Layout(\n",
    "    title='Scatter Matrix: Lecture Evaluation',\n",
    "    dragmode='select',\n",
    "    width=1200,\n",
    "    height=1200,\n",
    "    autosize=False,\n",
    "    hovermode='closest',\n",
    "    plot_bgcolor='rgba(240,240,240, 0.95)',\n",
    "    xaxis1=dict(axis),\n",
    "    xaxis2=dict(axis),\n",
    "    xaxis3=dict(axis),\n",
    "    xaxis4=dict(axis),\n",
    "    xaxis5=dict(axis),\n",
    "    xaxis6=dict(axis),\n",
    "    xaxis7=dict(axis),\n",
    "    yaxis1=dict(axis),\n",
    "    yaxis2=dict(axis),\n",
    "    yaxis3=dict(axis),\n",
    "    yaxis4=dict(axis),\n",
    "    yaxis5=dict(axis),\n",
    "    yaxis6=dict(axis),\n",
    "    yaxis7=dict(axis)\n",
    ")\n",
    "\n",
    "fig1 = dict(data=[trace1], layout=layout)\n",
    "plot(fig1, filename='scatter-matrix-class-evaluation.html')"
   ]
  },
  {
   "cell_type": "markdown",
   "metadata": {},
   "source": [
    "<br><b>Parallel Coordinate: Lecture Evaluation"
   ]
  },
  {
   "cell_type": "code",
   "execution_count": 10,
   "metadata": {},
   "outputs": [
    {
     "data": {
      "text/plain": [
       "'parallel-coordinates5-lecture-evaluation.html'"
      ]
     },
     "execution_count": 10,
     "metadata": {},
     "output_type": "execute_result"
    }
   ],
   "source": [
    "#pd.plotting.parallel_coordinates(pdata[['professor1','lecture1','participants','professional expertise','motivation','clear presentation','overall impression']],'professor1',sort_labels=True)\n",
    "#plt.axis[\"right\"].toggle(all=True)\n",
    "#5 parallel cordinate\n",
    "para_data = [\n",
    "    go.Parcoords(\n",
    "        line = dict(color=df1['participants'],\n",
    "                    colorscale=[[0,'#D7C16B'],[0.5,'#23D8C3'],[1,'#F3F10F']]),\n",
    "        dimensions = list([\n",
    "            dict(range = [df1['participants'].min(),df1['participants'].max()],\n",
    "                 constraintrange = [4,8],\n",
    "                 label = 'participants', values = df1['participants']),\n",
    "            dict(range=[df1['professional expertise'].min(),df1['professional expertise'].max()],\n",
    "                 label='professional expertise',values=df1['professional expertise']),\n",
    "            dict(range=[df1['motivation'].min(),df1['motivation'].max()],\n",
    "                 label='motivation',values=df1['motivation']),\n",
    "            dict(range=[df1['clear presentation'].min(),df1['clear presentation'].max()],\n",
    "                 label='clear presentation',values=df1['clear presentation']),\n",
    "            dict(range=[df1['overall impression'].min(),df1['overall impression'].max()],\n",
    "                 label='overall impression',values=df1['overall impression'])\n",
    "        ])\n",
    "    )\n",
    "]\n",
    "\n",
    "\n",
    "\n",
    "layout = go.Layout(\n",
    "    plot_bgcolor = '#E5E5E5',\n",
    "    paper_bgcolor = '#E5E5E5',\n",
    "    title='Parallel Coordinate: Lecture Evaluation'\n",
    "    #text=text\n",
    ")\n",
    "\n",
    "fig = go.Figure(data = para_data, layout = layout)\n",
    "plot(fig, filename = 'parallel-coordinates5-lecture-evaluation.html')"
   ]
  },
  {
   "cell_type": "code",
   "execution_count": 11,
   "metadata": {},
   "outputs": [
    {
     "data": {
      "text/plain": [
       "'parallel-coordinates7-lecture-evaluation.html'"
      ]
     },
     "execution_count": 11,
     "metadata": {},
     "output_type": "execute_result"
    }
   ],
   "source": [
    "#pd.plotting.parallel_coordinates(pdata[['professor1','lecture1','participants','professional expertise','motivation','clear presentation','overall impression']],'professor1',sort_labels=True)\n",
    "#plt.axis[\"right\"].toggle(all=True)\n",
    "#7 parallel coordinate\n",
    "para_data = [\n",
    "    go.Parcoords(\n",
    "        line = dict(color = df1['participants'],\n",
    "                   colorscale = 'Jet',\n",
    "                   showscale = False,\n",
    "                   reversescale = True,\n",
    "                   cmin = df1['participants'].min(),\n",
    "                   cmax = df1['participants'].max()),\n",
    "        dimensions = list([\n",
    "            dict(range=[df1['professor1'].min(),df1['professor1'].max()],\n",
    "                 #constraintrange = [4,8],\n",
    "                 label='professor',values=df1['professor1']),\n",
    "            dict(range=[df1['lecture1'].min(),df1['lecture1'].max()],\n",
    "                 label='lecture',values=df1['lecture1']),            \n",
    "            dict(range = [df1['participants'].min(),df1['participants'].max()],\n",
    "                 label = 'participants', values = df1['participants']),\n",
    "            dict(range=[df1['professional expertise'].min(),df1['professional expertise'].max()],\n",
    "                 label='professional expertise',values=df1['professional expertise']),\n",
    "            dict(range=[df1['motivation'].min(),df1['motivation'].max()],\n",
    "                 label='motivation',values=df1['motivation']),\n",
    "            dict(range=[df1['clear presentation'].min(),df1['clear presentation'].max()],\n",
    "                 label='clear presentation',values=df1['clear presentation']),\n",
    "            dict(range=[df1['overall impression'].min(),df1['overall impression'].max()],\n",
    "                 label='overall impression',values=df1['overall impression'])\n",
    "        ]),\n",
    "        visible=True\n",
    "        #text=text\n",
    "    )\n",
    "]\n",
    "\n",
    "\n",
    "\n",
    "layout = go.Layout(\n",
    "    plot_bgcolor = '#E5E5E5',\n",
    "    paper_bgcolor = '#E5E5E5',\n",
    "    title='Parallel Coordinate: Lecture Evaluation'\n",
    "    #text=text\n",
    ")\n",
    "\n",
    "fig = go.Figure(data = para_data, layout = layout)\n",
    "plot(fig, filename = 'parallel-coordinates7-lecture-evaluation.html')"
   ]
  },
  {
   "cell_type": "code",
   "execution_count": null,
   "metadata": {},
   "outputs": [],
   "source": []
  }
 ],
 "metadata": {
  "kernelspec": {
   "display_name": "Python 3",
   "language": "python",
   "name": "python3"
  },
  "language_info": {
   "codemirror_mode": {
    "name": "ipython",
    "version": 3
   },
   "file_extension": ".py",
   "mimetype": "text/x-python",
   "name": "python",
   "nbconvert_exporter": "python",
   "pygments_lexer": "ipython3",
   "version": "3.7.5"
  }
 },
 "nbformat": 4,
 "nbformat_minor": 2
}
